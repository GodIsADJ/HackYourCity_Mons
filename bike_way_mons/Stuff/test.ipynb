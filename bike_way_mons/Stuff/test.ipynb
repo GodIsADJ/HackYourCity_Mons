{
 "metadata": {
  "language_info": {
   "codemirror_mode": {
    "name": "ipython",
    "version": 3
   },
   "file_extension": ".py",
   "mimetype": "text/x-python",
   "name": "python",
   "nbconvert_exporter": "python",
   "pygments_lexer": "ipython3",
   "version": "3.8.3-final"
  },
  "orig_nbformat": 2,
  "kernelspec": {
   "name": "python3",
   "display_name": "Python 3",
   "language": "python"
  }
 },
 "nbformat": 4,
 "nbformat_minor": 2,
 "cells": [
  {
   "cell_type": "code",
   "execution_count": 92,
   "metadata": {},
   "outputs": [],
   "source": [
    "import pandas as pd\n",
    "from urllib.request import urlopen\n",
    "import json"
   ]
  },
  {
   "cell_type": "code",
   "execution_count": 93,
   "metadata": {},
   "outputs": [],
   "source": [
    "url = \"https://www.odwb.be/api/records/1.0/search/?dataset=patrimoine-culturel-de-la-ville-de-mons&q=&rows=-1&facet=contact_etablissement_raison_sociale&facet=contact_etablissement_adresse_1&facet=contact_etablissement_code_postal&facet=contact_etablissement_commune&facet=contact_etablissement_telephone_1&facet=contact_etablissement_telephone_2&facet=contact_etablissement_fax&facet=contact_etablissement_site_web&facet=contact_etablissement_email&facet=description_commerciale_fr\"\n",
    "\n",
    "response = urlopen(url)\n",
    "json_data = response.read().decode('utf-8', 'replace')\n",
    "\n",
    "d = json.loads(json_data)\n",
    "df_patrimoine = pd.json_normalize(d['records'])"
   ]
  },
  {
   "cell_type": "code",
   "execution_count": 94,
   "metadata": {},
   "outputs": [
    {
     "output_type": "execute_result",
     "data": {
      "text/plain": [
       "                                 datasetid  \\\n",
       "0  patrimoine-culturel-de-la-ville-de-mons   \n",
       "1  patrimoine-culturel-de-la-ville-de-mons   \n",
       "2  patrimoine-culturel-de-la-ville-de-mons   \n",
       "\n",
       "                                   recordid                  record_timestamp  \\\n",
       "0  2a3dd57aa7ac8a125bfb5a612431bc86bcd17114  2021-01-22T14:50:29.736000+00:00   \n",
       "1  c3e432d901ce8798ffe8e8f7c6efcca1ea37edc8  2021-01-22T14:50:29.736000+00:00   \n",
       "2  1c89c4b1d9ba3b7973aeab4e39d792814951e074  2021-01-22T14:50:29.736000+00:00   \n",
       "\n",
       "  fields.contact_etablissement_code_postal  \\\n",
       "0                                     7000   \n",
       "1                                     7000   \n",
       "2                                     7000   \n",
       "\n",
       "  fields.contact_etablissement_adresse_1  \\\n",
       "0                        138 Rue de Nimy   \n",
       "1                            Grand Place   \n",
       "2                       Jardin du Mayeur   \n",
       "\n",
       "                   fields.description_commerciale_fr  \\\n",
       "0  À l’angle des rues de Nimy et des Trois Boudin...   \n",
       "1  La Grand-Place est le véritable coeur de la vi...   \n",
       "2  L’actualité n’est pas à la fête, c’est un fait...   \n",
       "\n",
       "  fields.contact_etablissement_raison_sociale  \\\n",
       "0                                     Arsonic   \n",
       "1                                 Grand-Place   \n",
       "2                             Musée du Doudou   \n",
       "\n",
       "  fields.contact_etablissement_telephone_1  \\\n",
       "0                               3265395939   \n",
       "1                               3265335580   \n",
       "2                               3265405318   \n",
       "\n",
       "  fields.contact_etablissement_commune fields.contact_etablissement_site_web  \\\n",
       "0                                 Mons                http://www.mons2015.eu   \n",
       "1                                 Mons               http://www.visitmons.be   \n",
       "2                                 Mons      http://www.museedudoudou.mons.be   \n",
       "\n",
       "  fields.contact_etablissement_email fields.contact_etablissement_telephone_2  \\\n",
       "0                                NaN                                      NaN   \n",
       "1        info.tourisme@ville.mons.be                                      NaN   \n",
       "2           polemuseal@ville.mons.be                                      NaN   \n",
       "\n",
       "  fields.contact_etablissement_fax  \n",
       "0                              NaN  \n",
       "1                              NaN  \n",
       "2                              NaN  "
      ],
      "text/html": "<div>\n<style scoped>\n    .dataframe tbody tr th:only-of-type {\n        vertical-align: middle;\n    }\n\n    .dataframe tbody tr th {\n        vertical-align: top;\n    }\n\n    .dataframe thead th {\n        text-align: right;\n    }\n</style>\n<table border=\"1\" class=\"dataframe\">\n  <thead>\n    <tr style=\"text-align: right;\">\n      <th></th>\n      <th>datasetid</th>\n      <th>recordid</th>\n      <th>record_timestamp</th>\n      <th>fields.contact_etablissement_code_postal</th>\n      <th>fields.contact_etablissement_adresse_1</th>\n      <th>fields.description_commerciale_fr</th>\n      <th>fields.contact_etablissement_raison_sociale</th>\n      <th>fields.contact_etablissement_telephone_1</th>\n      <th>fields.contact_etablissement_commune</th>\n      <th>fields.contact_etablissement_site_web</th>\n      <th>fields.contact_etablissement_email</th>\n      <th>fields.contact_etablissement_telephone_2</th>\n      <th>fields.contact_etablissement_fax</th>\n    </tr>\n  </thead>\n  <tbody>\n    <tr>\n      <th>0</th>\n      <td>patrimoine-culturel-de-la-ville-de-mons</td>\n      <td>2a3dd57aa7ac8a125bfb5a612431bc86bcd17114</td>\n      <td>2021-01-22T14:50:29.736000+00:00</td>\n      <td>7000</td>\n      <td>138 Rue de Nimy</td>\n      <td>À l’angle des rues de Nimy et des Trois Boudin...</td>\n      <td>Arsonic</td>\n      <td>3265395939</td>\n      <td>Mons</td>\n      <td>http://www.mons2015.eu</td>\n      <td>NaN</td>\n      <td>NaN</td>\n      <td>NaN</td>\n    </tr>\n    <tr>\n      <th>1</th>\n      <td>patrimoine-culturel-de-la-ville-de-mons</td>\n      <td>c3e432d901ce8798ffe8e8f7c6efcca1ea37edc8</td>\n      <td>2021-01-22T14:50:29.736000+00:00</td>\n      <td>7000</td>\n      <td>Grand Place</td>\n      <td>La Grand-Place est le véritable coeur de la vi...</td>\n      <td>Grand-Place</td>\n      <td>3265335580</td>\n      <td>Mons</td>\n      <td>http://www.visitmons.be</td>\n      <td>info.tourisme@ville.mons.be</td>\n      <td>NaN</td>\n      <td>NaN</td>\n    </tr>\n    <tr>\n      <th>2</th>\n      <td>patrimoine-culturel-de-la-ville-de-mons</td>\n      <td>1c89c4b1d9ba3b7973aeab4e39d792814951e074</td>\n      <td>2021-01-22T14:50:29.736000+00:00</td>\n      <td>7000</td>\n      <td>Jardin du Mayeur</td>\n      <td>L’actualité n’est pas à la fête, c’est un fait...</td>\n      <td>Musée du Doudou</td>\n      <td>3265405318</td>\n      <td>Mons</td>\n      <td>http://www.museedudoudou.mons.be</td>\n      <td>polemuseal@ville.mons.be</td>\n      <td>NaN</td>\n      <td>NaN</td>\n    </tr>\n  </tbody>\n</table>\n</div>"
     },
     "metadata": {},
     "execution_count": 94
    }
   ],
   "source": [
    "df_patrimoine.head(3)"
   ]
  },
  {
   "cell_type": "code",
   "execution_count": 95,
   "metadata": {},
   "outputs": [],
   "source": [
    "url = \"https://www.odwb.be/api/records/1.0/search/?dataset=fetes-et-manifestations-dans-la-ville-de-mons&q=&rows=-1&facet=etablissement_nom&facet=classification&facet=etablissement_adresse_1&facet=etablissement_code_postal&facet=etablissement_commune&facet=tarifs&facet=periodes_textuelles&facet=description_fr\""
   ]
  },
  {
   "cell_type": "code",
   "execution_count": 96,
   "metadata": {},
   "outputs": [],
   "source": [
    "response = urlopen(url)\n",
    "json_data = response.read().decode('utf-8', 'replace')\n",
    "\n",
    "d = json.loads(json_data)\n",
    "df_events = pd.json_normalize(d['records'])"
   ]
  },
  {
   "cell_type": "code",
   "execution_count": 97,
   "metadata": {},
   "outputs": [
    {
     "output_type": "execute_result",
     "data": {
      "text/plain": [
       "                                       datasetid  \\\n",
       "0  fetes-et-manifestations-dans-la-ville-de-mons   \n",
       "1  fetes-et-manifestations-dans-la-ville-de-mons   \n",
       "2  fetes-et-manifestations-dans-la-ville-de-mons   \n",
       "\n",
       "                                   recordid                  record_timestamp  \\\n",
       "0  53e98b97a16448b90eb4841e3c19f50fca51b9c5  2021-01-22T14:45:23.315000+00:00   \n",
       "1  d767d6df9ea018ff4967eabf7a438785b31d6241  2021-01-22T14:45:23.315000+00:00   \n",
       "2  b8c4df1005f6e607ed2cc55726f29940813b8736  2021-01-22T14:45:23.315000+00:00   \n",
       "\n",
       "  fields.etablissement_nom fields.classification              fields.tarifs  \\\n",
       "0     Ensemble Mendelssohn             Spectacle                 Gratuité :   \n",
       "1                  Kheiron             Spectacle   Adulte : de 9.00 à 15.00   \n",
       "2              À l’Unisson             Spectacle  Adulte : de 28.00 à 39.00   \n",
       "\n",
       "         fields.periodes_textuelles fields.etablissement_code_postal  \\\n",
       "0  Le 10/02/2021 : de 20h00 à 21h00                             7000   \n",
       "1      Le 18/02/2021 : de 20h00 à h                             7000   \n",
       "2  Le 22/02/2021 : de 20h00 à 21h00                             7000   \n",
       "\n",
       "  fields.etablissement_commune  \\\n",
       "0                         Mons   \n",
       "1                         Mons   \n",
       "2                         Mons   \n",
       "\n",
       "                               fields.description_fr  \\\n",
       "0  Lors de leur formation à ARTS², les étudiant·e...   \n",
       "1  Une dimension cachée de Beethoven\\n L’Ensemble...   \n",
       "2  \"Bon bah ma prod souhaiterait que je vous décr...   \n",
       "\n",
       "  fields.etablissement_adresse_1  \n",
       "0                138 Rue de Nimy  \n",
       "1                    Grand-Place  \n",
       "2                138 Rue de Nimy  "
      ],
      "text/html": "<div>\n<style scoped>\n    .dataframe tbody tr th:only-of-type {\n        vertical-align: middle;\n    }\n\n    .dataframe tbody tr th {\n        vertical-align: top;\n    }\n\n    .dataframe thead th {\n        text-align: right;\n    }\n</style>\n<table border=\"1\" class=\"dataframe\">\n  <thead>\n    <tr style=\"text-align: right;\">\n      <th></th>\n      <th>datasetid</th>\n      <th>recordid</th>\n      <th>record_timestamp</th>\n      <th>fields.etablissement_nom</th>\n      <th>fields.classification</th>\n      <th>fields.tarifs</th>\n      <th>fields.periodes_textuelles</th>\n      <th>fields.etablissement_code_postal</th>\n      <th>fields.etablissement_commune</th>\n      <th>fields.description_fr</th>\n      <th>fields.etablissement_adresse_1</th>\n    </tr>\n  </thead>\n  <tbody>\n    <tr>\n      <th>0</th>\n      <td>fetes-et-manifestations-dans-la-ville-de-mons</td>\n      <td>53e98b97a16448b90eb4841e3c19f50fca51b9c5</td>\n      <td>2021-01-22T14:45:23.315000+00:00</td>\n      <td>Ensemble Mendelssohn</td>\n      <td>Spectacle</td>\n      <td>Gratuité :</td>\n      <td>Le 10/02/2021 : de 20h00 à 21h00</td>\n      <td>7000</td>\n      <td>Mons</td>\n      <td>Lors de leur formation à ARTS², les étudiant·e...</td>\n      <td>138 Rue de Nimy</td>\n    </tr>\n    <tr>\n      <th>1</th>\n      <td>fetes-et-manifestations-dans-la-ville-de-mons</td>\n      <td>d767d6df9ea018ff4967eabf7a438785b31d6241</td>\n      <td>2021-01-22T14:45:23.315000+00:00</td>\n      <td>Kheiron</td>\n      <td>Spectacle</td>\n      <td>Adulte : de 9.00 à 15.00</td>\n      <td>Le 18/02/2021 : de 20h00 à h</td>\n      <td>7000</td>\n      <td>Mons</td>\n      <td>Une dimension cachée de Beethoven\\n L’Ensemble...</td>\n      <td>Grand-Place</td>\n    </tr>\n    <tr>\n      <th>2</th>\n      <td>fetes-et-manifestations-dans-la-ville-de-mons</td>\n      <td>b8c4df1005f6e607ed2cc55726f29940813b8736</td>\n      <td>2021-01-22T14:45:23.315000+00:00</td>\n      <td>À l’Unisson</td>\n      <td>Spectacle</td>\n      <td>Adulte : de 28.00 à 39.00</td>\n      <td>Le 22/02/2021 : de 20h00 à 21h00</td>\n      <td>7000</td>\n      <td>Mons</td>\n      <td>\"Bon bah ma prod souhaiterait que je vous décr...</td>\n      <td>138 Rue de Nimy</td>\n    </tr>\n  </tbody>\n</table>\n</div>"
     },
     "metadata": {},
     "execution_count": 97
    }
   ],
   "source": [
    "df_events.head(3)"
   ]
  },
  {
   "cell_type": "code",
   "execution_count": 98,
   "metadata": {},
   "outputs": [
    {
     "output_type": "execute_result",
     "data": {
      "text/plain": [
       "array(['Spectacle', 'Exposition', 'Autre', 'Cinéma,\\nFestival'],\n",
       "      dtype=object)"
      ]
     },
     "metadata": {},
     "execution_count": 98
    }
   ],
   "source": [
    "df_events[\"fields.classification\"].unique()"
   ]
  },
  {
   "cell_type": "code",
   "execution_count": 99,
   "metadata": {},
   "outputs": [
    {
     "output_type": "execute_result",
     "data": {
      "text/plain": [
       "array(['Le 10/02/2021 : de 20h00 à 21h00', 'Le 18/02/2021 : de 20h00 à h',\n",
       "       'Le 22/02/2021 : de 20h00 à 21h00',\n",
       "       'Du 13/02/2021 au 13/06/2021 : \\nJeudi : de 10h00 à 16h00\\nVendredi : de 10h00 à 16h00\\nSamedi : de 10h00 à 16h00\\nDimanche : de 10h00 à 16h00',\n",
       "       'Le 25/02/2021', 'Le 26/02/2021 : de 20h00 à h',\n",
       "       'Le 01/03/2021 : de 20h00 à 21h00',\n",
       "       'Le 01/03/2021 : de 18h00 à 18h40 et de 19h00 à 19h40',\n",
       "       'Le 08/03/2021 : de 19h00 à 20h00',\n",
       "       'Du 14/03/2021 au 15/03/2021 : \\nLundi : de 09h30 à 11h00\\nDimanche : de 11h00 à 16h00',\n",
       "       'Le 29/03/2021 : de 19h00 à 19h50',\n",
       "       'Le 01/04/2021 : de 20h00 à 21h00',\n",
       "       'Le 02/04/2021 : de 20h00 à 21h00', 'Le 03/04/2021 : de 20h00 à h',\n",
       "       'Le 10/04/2021 : de 20h00 à h', 'Le 20/04/2021 : de 20h00 à 21h00',\n",
       "       'Le 23/04/2021 : de 20h00 à h', 'Le 27/04/2021 : de 20h00 à 21h15',\n",
       "       'Le 27/04/2021 : de 20h00 à h', 'Le 10/05/2021 : de 20h00 à 21h00',\n",
       "       'Le 18/05/2021 : de 20h00 à 21h00', 'Le 20/05/2021 : de 20h00 à h',\n",
       "       'Le 19/06/2021 : de 20h00 à h', 'Le 23/09/2021 : de 20h00 à h',\n",
       "       'Le 13/10/2021 : de 20h30 à h', 'Le 30/10/2021 : de 20h00 à h',\n",
       "       'Le 12/11/2021 : de 20h00 à h', 'Le 20/11/2021 : de 20h00 à h',\n",
       "       'Le 11/12/2021', 'Le 23/01/2022 : de 14h30 à h', 'Le 19/02/2021',\n",
       "       'Du 06/02/2021 au 25/02/2021 : \\nMercredi : de 10h00 à 18h00\\nJeudi : de 10h00 à 18h00\\nVendredi : de 10h00 à 18h00\\nSamedi : de 13h00 à 18h00\\nDimanche : de 10h00 à 17h00',\n",
       "       'Le 03/03/2021 : de 20h00 à 21h00',\n",
       "       'Le 04/03/2021 : de 18h00 à 18h40 et de 19h00 à 19h40',\n",
       "       'Le 05/03/2021 : de 18h00 à 18h40 et de 19h00 à 19h40',\n",
       "       'Le 06/03/2021 : de 20h00 à h', 'Le 14/03/2021 : de 15h00 à h',\n",
       "       'Le 16/03/2021 : de 20h00 à h', 'Le 19/03/2021 : de 20h00 à 21h00',\n",
       "       'Le 22/03/2021 : de 20h00 à 21h00', 'Le 23/03/2021 : de 20h00 à h',\n",
       "       'Le 25/03/2021 : de 19h00 à h', 'Le 25/03/2021',\n",
       "       'Le 30/03/2021 : de 20h00 à h',\n",
       "       'Du 31/03/2021 au 01/04/2021 : \\nMercredi : de 20h00 à h',\n",
       "       'Du 14/03/2021 au 18/04/2021 : \\nMardi : de 12h00 à 18h00\\nMercredi : de 12h00 à 18h00\\nJeudi : de 12h00 à 18h00\\nVendredi : de 12h00 à 18h00\\nSamedi : de 12h00 à 18h00\\nDimanche : de 12h00 à 18h00',\n",
       "       'Du 20/04/2021 au 21/04/2021 : \\nMardi : de 20h00 à h',\n",
       "       'Le 24/04/2021 : de 20h00 à h',\n",
       "       'Du 25/04/2021 au 26/04/2021 : \\nLundi : de 10h00 à h et de 13h30 à h\\nDimanche : de 16h00 à h',\n",
       "       'Du 04/05/2021 au 05/05/2021 : \\nMardi : de 10h00 à h et de 13h30 à h',\n",
       "       'Le 18/09/2021 : de 20h00 à h', 'Le 01/10/2021 : de 20h00 à h',\n",
       "       'Le 16/10/2021 : de 20h00 à h',\n",
       "       'Du 05/12/2020 au 18/04/2021 : \\nMardi : de 10h00 à 18h00\\nMercredi : de 10h00 à 18h00\\nJeudi : de 10h00 à 18h00\\nVendredi : de 10h00 à 18h00\\nSamedi : de 10h00 à 18h00\\nDimanche : de 10h00 à 18h00',\n",
       "       'Le 22/02/2021 : de 19h00 à 20h00',\n",
       "       'Le 04/03/2021 : de 20h00 à 21h00',\n",
       "       'Le 05/03/2021 : de 20h00 à 21h00',\n",
       "       'Le 06/03/2021 : de 20h00 à 21h00', 'Du 26/02/2021 au 21/03/2021',\n",
       "       'Le 30/03/2021 : de 20h00 à 21h00',\n",
       "       'Le 11/03/2021 : de 20h00 à h,\\nLe 20/05/2021 : de 20h00 à h',\n",
       "       'Le 26/04/2021 : de 20h00 à h', 'Le 01/05/2021 : de 20h00 à h',\n",
       "       'Le 02/05/2021 : de 20h00 à h',\n",
       "       'Du 04/05/2021 au 06/05/2021 : \\nMardi : de 20h00 à h\\nMercredi : de 20h00 à h',\n",
       "       'Le 11/05/2021', 'Le 19/05/2021 : de 20h00 à h',\n",
       "       'Le 03/06/2021 : de 20h00 à 21h00', 'Le 09/06/2021 : de 20h00 à h',\n",
       "       'Le 17/10/2021 : de 20h00 à h', 'Le 20/10/2021 : de 20h00 à h',\n",
       "       'Le 21/10/2021 : de 20h00 à h', 'Le 07/11/2021',\n",
       "       'Le 08/12/2021 : de 20h00 à h', 'Le 15/01/2022 : de 20h00 à h',\n",
       "       'Le 27/01/2021 : de 13h00 à 17h00,\\nDu 03/02/2021 au 10/02/2021 : \\nTous les jours : de 13h00 à 17h00,\\nLe 24/02/2021 : de 13h00 à 17h00,\\nLe 10/03/2021 : de 13h00 à 17h00,\\nDu 24/03/2021 au 31/03/2021 : \\nTous les jours : de 13h00 à 17h00,\\nLe 21/04/2021 : de 13h00 à 17h00,\\nLe 05/05/2021 : de 13h00 à 17h00,\\nLe 19/05/2021 : de 13h00 à 17h00',\n",
       "       'Le 01/02/2021 : de 19h00 à 20h00',\n",
       "       'Du 01/02/2021 au 06/02/2021 : \\nLundi : de 09h00 à h et de 11h00 à h',\n",
       "       'Du 09/02/2021 au 11/02/2021 : \\nMardi : de 21h00 à h\\nMercredi : de 20h00 à h',\n",
       "       'Le 25/02/2021 : de 20h00 à h',\n",
       "       'Du 28/02/2021 au 01/03/2021 : \\nLundi : de 09h30 à 11h00\\nDimanche : de 11h00 à 16h00',\n",
       "       'Le 03/03/2021 : de 18h00 à 18h40 et de 19h00 à 19h40',\n",
       "       'Le 04/03/2021', 'Le 05/03/2021 : de 12h15 à 13h05',\n",
       "       'Le 08/03/2021 : de 21h00 à h', 'Le 26/03/2021 : de 20h00 à h',\n",
       "       'Le 27/03/2021 : de 20h00 à h',\n",
       "       'Du 23/03/2021 au 24/03/2021 : \\nMardi : de 18h00 à 20h30\\nMercredi : de 18h00 à 20h30,\\nLe 02/04/2021 : de 18h00 à 20h30',\n",
       "       'Le 21/04/2021 : de 19h10 à h', 'Du 01/04/2021 au 02/05/2021',\n",
       "       'Du 27/04/2021 au 29/04/2021 : \\nMardi : de 18h00 à 22h30\\nMercredi : de 18h00 à 22h30\\nJeudi : de 18h00 à 22h30',\n",
       "       'Le 04/05/2021 : de 20h00 à h', 'Le 12/05/2021 : de 20h00 à h',\n",
       "       'Du 16/05/2021 au 17/05/2021 : \\nLundi : de 09h30 à 10h10 et de 10h45 à 11h25\\nDimanche : de 16h00 à h',\n",
       "       'Le 26/05/2021 : de 20h00 à h', 'Du 21/05/2021 au 28/05/2021',\n",
       "       'Le 15/06/2021 : de 20h00 à h', 'Le 16/06/2021 : de 20h00 à h',\n",
       "       'Le 26/09/2021', 'Le 09/11/2021', 'Le 19/11/2021 : de 20h00 à h',\n",
       "       'Du 16/01/2021 au 14/02/2021 : \\nMardi : de 12h00 à 18h00\\nMercredi : de 12h00 à 18h00\\nJeudi : de 12h00 à 18h00\\nVendredi : de 12h00 à 18h00\\nSamedi : de 12h00 à 18h00\\nDimanche : de 12h00 à 18h00',\n",
       "       'Du 05/12/2020 au 14/02/2021 : \\nMardi : de 12h00 à 18h00\\nMercredi : de 12h00 à 18h00\\nJeudi : de 12h00 à 18h00\\nVendredi : de 12h00 à 18h00\\nSamedi : de 12h00 à 18h00\\nDimanche : de 12h00 à 18h00',\n",
       "       'Du 20/01/2021 au 18/04/2021 : \\nMercredi : de 13h00 à 17h00\\nJeudi : de 13h00 à 17h00\\nVendredi : de 13h00 à 17h00\\nSamedi : de 11h00 à 18h00\\nDimanche : de 11h00 à 18h00',\n",
       "       'Du 09/02/2021 au 12/02/2021 : \\nMardi : de 19h00 à h\\nMercredi : de 20h00 à h\\nJeudi : de 10h00 à h et de 20h00 à h\\nVendredi : de 20h00 à h',\n",
       "       'Le 20/02/2021',\n",
       "       'Du 06/02/2021 au 19/12/2021 : \\nMardi : de 10h00 à 18h00\\nMercredi : de 10h00 à 18h00\\nJeudi : de 10h00 à 18h00\\nVendredi : de 10h00 à 18h00\\nSamedi : de 10h00 à 18h00\\nDimanche : de 10h00 à 18h00',\n",
       "       'Le 07/03/2021 : de 20h00 à h', 'Le 10/03/2021 : de 20h00 à 21h20',\n",
       "       'Le 11/03/2021 : de 20h00 à 21h00',\n",
       "       'Le 15/03/2021 : de 19h00 à 20h00', 'Le 24/03/2021',\n",
       "       'Du 17/04/2021 au 18/04/2021 : \\nSamedi : de 20h00 à h\\nDimanche : de 16h00 à h',\n",
       "       'Le 22/04/2021 : de 20h00 à 21h00',\n",
       "       'Le 29/04/2021 : de 20h00 à 20h55', 'Le 08/05/2021 : de 16h00 à h',\n",
       "       'Le 09/05/2021',\n",
       "       'Du 13/05/2021 au 14/05/2021 : \\nJeudi : de 20h00 à h',\n",
       "       'Le 15/05/2021 : de 20h00 à 21h00', 'Le 16/05/2021 : de 11h00 à h',\n",
       "       'Le 25/05/2021 : de 20h00 à h', 'Le 04/06/2021 : de 20h00 à 21h00',\n",
       "       'Le 08/06/2021 : de 20h00 à 21h00', 'Le 11/06/2021 : de 20h00 à h',\n",
       "       'Le 17/06/2021 : de 20h00 à h', 'Le 31/10/2021 : de 20h00 à h',\n",
       "       'Le 27/11/2021 : de 20h00 à h', 'Le 17/12/2021 : de 20h00 à h',\n",
       "       'Le 28/01/2022 : de 20h00 à h', 'Le 12/03/2022 : de 20h00 à h',\n",
       "       'Le 13/03/2022 : de 20h00 à h'], dtype=object)"
      ]
     },
     "metadata": {},
     "execution_count": 99
    }
   ],
   "source": [
    "df_events[\"fields.periodes_textuelles\"].unique()"
   ]
  },
  {
   "cell_type": "code",
   "execution_count": 100,
   "metadata": {},
   "outputs": [],
   "source": [
    "url=\"https://www.odwb.be/api/records/1.0/search/?dataset=pistes-cyclables-existantes-sur-la-commune-de-mons&q=&rows=-1&facet=direction&facet=situation&facet=type\""
   ]
  },
  {
   "cell_type": "code",
   "execution_count": 101,
   "metadata": {},
   "outputs": [],
   "source": [
    "response = urlopen(url)\n",
    "json_data = response.read().decode('utf-8', 'replace')\n",
    "\n",
    "d = json.loads(json_data)\n",
    "df_cyclable = pd.json_normalize(d['records'])"
   ]
  },
  {
   "cell_type": "code",
   "execution_count": 102,
   "metadata": {},
   "outputs": [
    {
     "output_type": "execute_result",
     "data": {
      "text/plain": [
       "                                           datasetid  \\\n",
       "0  pistes-cyclables-existantes-sur-la-commune-de-...   \n",
       "1  pistes-cyclables-existantes-sur-la-commune-de-...   \n",
       "2  pistes-cyclables-existantes-sur-la-commune-de-...   \n",
       "\n",
       "                                   recordid                  record_timestamp  \\\n",
       "0  af34b158ea6a2d9ecf30ace8207b91ddc004c5f8  2021-02-03T08:07:27.471000+00:00   \n",
       "1  cffba5b2db3de860df69ce995484fe17ca28fb43  2021-02-03T08:07:27.471000+00:00   \n",
       "2  ed2963e24c547233ef4752cfe87155c4dd770763  2021-02-03T08:07:27.471000+00:00   \n",
       "\n",
       "  fields.etat    fields.direction             fields.geo_point_2d  \\\n",
       "0    Existant     Dans les 2 sens  [50.4734286611, 3.87853441027]   \n",
       "1    Existant  Uni-directionnelle  [50.4491107701, 3.94632042425]   \n",
       "2    Existant  Uni-directionnelle  [50.4329672273, 3.95476656323]   \n",
       "\n",
       "  fields.gestion fields.geo_shape.type  \\\n",
       "0            SPW       MultiLineString   \n",
       "1            SPW       MultiLineString   \n",
       "2      Communale       MultiLineString   \n",
       "\n",
       "                        fields.geo_shape.coordinates fields.situation  \\\n",
       "0  [[[3.886615397256705, 50.47421153689425], [3.8...        En voirie   \n",
       "1  [[[3.95440464264482, 50.44971911844056], [3.95...        En voirie   \n",
       "2  [[[3.948663749347395, 50.42710618012044], [3.9...     Sur trottoir   \n",
       "\n",
       "     fields.type fields.id geometry.type            geometry.coordinates  \n",
       "0  Piste marquée       178         Point  [3.87853441027, 50.4734286611]  \n",
       "1  Piste marquée         1         Point  [3.94632042425, 50.4491107701]  \n",
       "2  Piste marquée       138         Point  [3.95476656323, 50.4329672273]  "
      ],
      "text/html": "<div>\n<style scoped>\n    .dataframe tbody tr th:only-of-type {\n        vertical-align: middle;\n    }\n\n    .dataframe tbody tr th {\n        vertical-align: top;\n    }\n\n    .dataframe thead th {\n        text-align: right;\n    }\n</style>\n<table border=\"1\" class=\"dataframe\">\n  <thead>\n    <tr style=\"text-align: right;\">\n      <th></th>\n      <th>datasetid</th>\n      <th>recordid</th>\n      <th>record_timestamp</th>\n      <th>fields.etat</th>\n      <th>fields.direction</th>\n      <th>fields.geo_point_2d</th>\n      <th>fields.gestion</th>\n      <th>fields.geo_shape.type</th>\n      <th>fields.geo_shape.coordinates</th>\n      <th>fields.situation</th>\n      <th>fields.type</th>\n      <th>fields.id</th>\n      <th>geometry.type</th>\n      <th>geometry.coordinates</th>\n    </tr>\n  </thead>\n  <tbody>\n    <tr>\n      <th>0</th>\n      <td>pistes-cyclables-existantes-sur-la-commune-de-...</td>\n      <td>af34b158ea6a2d9ecf30ace8207b91ddc004c5f8</td>\n      <td>2021-02-03T08:07:27.471000+00:00</td>\n      <td>Existant</td>\n      <td>Dans les 2 sens</td>\n      <td>[50.4734286611, 3.87853441027]</td>\n      <td>SPW</td>\n      <td>MultiLineString</td>\n      <td>[[[3.886615397256705, 50.47421153689425], [3.8...</td>\n      <td>En voirie</td>\n      <td>Piste marquée</td>\n      <td>178</td>\n      <td>Point</td>\n      <td>[3.87853441027, 50.4734286611]</td>\n    </tr>\n    <tr>\n      <th>1</th>\n      <td>pistes-cyclables-existantes-sur-la-commune-de-...</td>\n      <td>cffba5b2db3de860df69ce995484fe17ca28fb43</td>\n      <td>2021-02-03T08:07:27.471000+00:00</td>\n      <td>Existant</td>\n      <td>Uni-directionnelle</td>\n      <td>[50.4491107701, 3.94632042425]</td>\n      <td>SPW</td>\n      <td>MultiLineString</td>\n      <td>[[[3.95440464264482, 50.44971911844056], [3.95...</td>\n      <td>En voirie</td>\n      <td>Piste marquée</td>\n      <td>1</td>\n      <td>Point</td>\n      <td>[3.94632042425, 50.4491107701]</td>\n    </tr>\n    <tr>\n      <th>2</th>\n      <td>pistes-cyclables-existantes-sur-la-commune-de-...</td>\n      <td>ed2963e24c547233ef4752cfe87155c4dd770763</td>\n      <td>2021-02-03T08:07:27.471000+00:00</td>\n      <td>Existant</td>\n      <td>Uni-directionnelle</td>\n      <td>[50.4329672273, 3.95476656323]</td>\n      <td>Communale</td>\n      <td>MultiLineString</td>\n      <td>[[[3.948663749347395, 50.42710618012044], [3.9...</td>\n      <td>Sur trottoir</td>\n      <td>Piste marquée</td>\n      <td>138</td>\n      <td>Point</td>\n      <td>[3.95476656323, 50.4329672273]</td>\n    </tr>\n  </tbody>\n</table>\n</div>"
     },
     "metadata": {},
     "execution_count": 102
    }
   ],
   "source": [
    "df_cyclable.head(3)"
   ]
  },
  {
   "cell_type": "code",
   "execution_count": 103,
   "metadata": {},
   "outputs": [],
   "source": [
    "url=\"https://www.odwb.be/api/records/1.0/search/?dataset=arbres-dans-les-parcs&q=&rows=-1&facet=commune_niveau_1&facet=equipement_adresse&facet=libelle_complet&facet=libelle&facet=identifiant&facet=quantite\""
   ]
  },
  {
   "cell_type": "code",
   "execution_count": 104,
   "metadata": {},
   "outputs": [],
   "source": [
    "response = urlopen(url)\n",
    "json_data = response.read().decode('utf-8', 'replace')\n",
    "\n",
    "d = json.loads(json_data)\n",
    "df_parcs = pd.json_normalize(d['records'])"
   ]
  },
  {
   "cell_type": "code",
   "execution_count": 105,
   "metadata": {},
   "outputs": [
    {
     "output_type": "execute_result",
     "data": {
      "text/plain": [
       "               datasetid                                  recordid  \\\n",
       "0  arbres-dans-les-parcs  8b7d47b3a6b529a50e9468c1ff03cb0da45f4b6f   \n",
       "1  arbres-dans-les-parcs  4e7a00e0ed5a0ae8b1692135302fa8c4b3e494fa   \n",
       "2  arbres-dans-les-parcs  9d16ee3d76de803f437cc77c7c3a316973f46bb0   \n",
       "\n",
       "                   record_timestamp  \\\n",
       "0  2020-12-09T14:24:34.804000+00:00   \n",
       "1  2020-12-09T14:24:34.804000+00:00   \n",
       "2  2020-12-09T14:24:34.804000+00:00   \n",
       "\n",
       "                      fields.equipement_adresse  fields.quantite  \\\n",
       "0  35 Rue du Château Guillochain\\n7012 Jemappes                1   \n",
       "1      Avenue Reine Astrid\\n7000 Mons\\nBelgique                1   \n",
       "2      Avenue Reine Astrid\\n7000 Mons\\nBelgique                1   \n",
       "\n",
       "  fields.commune_niveau_1 fields.libelle  \\\n",
       "0                Jemappes       Feuillus   \n",
       "1                    Mons      Conifères   \n",
       "2                    Mons       Feuillus   \n",
       "\n",
       "                       fields.libelle_complet  \\\n",
       "0  Parc de Jemappes/Parc de Jemappes/Feuillus   \n",
       "1        Waux-Hall/Parc (Waux-Hall)/Conifères   \n",
       "2         Waux-Hall/Parc (Waux-Hall)/Feuillus   \n",
       "\n",
       "                     fields.identifiant  \n",
       "0   Tilleul (Tilia)/Tilleul de Hollande  \n",
       "1  Cyprès (Taxodium)/chauve (distichum)  \n",
       "2   Liriodendron (Tulipier)/de Virginie  "
      ],
      "text/html": "<div>\n<style scoped>\n    .dataframe tbody tr th:only-of-type {\n        vertical-align: middle;\n    }\n\n    .dataframe tbody tr th {\n        vertical-align: top;\n    }\n\n    .dataframe thead th {\n        text-align: right;\n    }\n</style>\n<table border=\"1\" class=\"dataframe\">\n  <thead>\n    <tr style=\"text-align: right;\">\n      <th></th>\n      <th>datasetid</th>\n      <th>recordid</th>\n      <th>record_timestamp</th>\n      <th>fields.equipement_adresse</th>\n      <th>fields.quantite</th>\n      <th>fields.commune_niveau_1</th>\n      <th>fields.libelle</th>\n      <th>fields.libelle_complet</th>\n      <th>fields.identifiant</th>\n    </tr>\n  </thead>\n  <tbody>\n    <tr>\n      <th>0</th>\n      <td>arbres-dans-les-parcs</td>\n      <td>8b7d47b3a6b529a50e9468c1ff03cb0da45f4b6f</td>\n      <td>2020-12-09T14:24:34.804000+00:00</td>\n      <td>35 Rue du Château Guillochain\\n7012 Jemappes</td>\n      <td>1</td>\n      <td>Jemappes</td>\n      <td>Feuillus</td>\n      <td>Parc de Jemappes/Parc de Jemappes/Feuillus</td>\n      <td>Tilleul (Tilia)/Tilleul de Hollande</td>\n    </tr>\n    <tr>\n      <th>1</th>\n      <td>arbres-dans-les-parcs</td>\n      <td>4e7a00e0ed5a0ae8b1692135302fa8c4b3e494fa</td>\n      <td>2020-12-09T14:24:34.804000+00:00</td>\n      <td>Avenue Reine Astrid\\n7000 Mons\\nBelgique</td>\n      <td>1</td>\n      <td>Mons</td>\n      <td>Conifères</td>\n      <td>Waux-Hall/Parc (Waux-Hall)/Conifères</td>\n      <td>Cyprès (Taxodium)/chauve (distichum)</td>\n    </tr>\n    <tr>\n      <th>2</th>\n      <td>arbres-dans-les-parcs</td>\n      <td>9d16ee3d76de803f437cc77c7c3a316973f46bb0</td>\n      <td>2020-12-09T14:24:34.804000+00:00</td>\n      <td>Avenue Reine Astrid\\n7000 Mons\\nBelgique</td>\n      <td>1</td>\n      <td>Mons</td>\n      <td>Feuillus</td>\n      <td>Waux-Hall/Parc (Waux-Hall)/Feuillus</td>\n      <td>Liriodendron (Tulipier)/de Virginie</td>\n    </tr>\n  </tbody>\n</table>\n</div>"
     },
     "metadata": {},
     "execution_count": 105
    }
   ],
   "source": [
    "df_parcs.head(3)"
   ]
  },
  {
   "cell_type": "code",
   "execution_count": 106,
   "metadata": {},
   "outputs": [],
   "source": [
    "url = \"https://www.odwb.be/api/records/1.0/search/?dataset=arbres-remarquables&q=&rows=-1&facet=equipement_adresse&facet=libelle&facet=identifiant&facet=quantite\""
   ]
  },
  {
   "cell_type": "code",
   "execution_count": 107,
   "metadata": {},
   "outputs": [],
   "source": [
    "response = urlopen(url)\n",
    "json_data = response.read().decode('utf-8', 'replace')\n",
    "\n",
    "d = json.loads(json_data)\n",
    "df_arbre = pd.json_normalize(d['records'])"
   ]
  },
  {
   "cell_type": "code",
   "execution_count": 108,
   "metadata": {},
   "outputs": [
    {
     "output_type": "execute_result",
     "data": {
      "text/plain": [
       "             datasetid                                  recordid  \\\n",
       "0  arbres-remarquables  32d4439d7b29fe5cf3a6d07dfb3c48a9b3f8bcd3   \n",
       "1  arbres-remarquables  06627066362d3fd641f689a37d8c06af2be3a204   \n",
       "2  arbres-remarquables  f47709743102b0f366003914b71ead63518fccda   \n",
       "\n",
       "                   record_timestamp          fields.equipement_adresse  \\\n",
       "0  2020-12-09T14:46:56.096000+00:00  Place de Saint-Denis\\nSaint-Denis   \n",
       "1  2020-12-09T14:46:56.096000+00:00        Rue à Charettes\\n7000 Flénu   \n",
       "2  2020-12-09T14:46:56.096000+00:00       Rue des Produits\\n7012 Flénu   \n",
       "\n",
       "   fields.quantite fields.commune_niveau_1 fields.libelle  \\\n",
       "0                1             Saint-Denis       Feuillus   \n",
       "1                1                   Flénu       Arbustes   \n",
       "2               60                   Flénu       Arbustes   \n",
       "\n",
       "                              fields.libelle_complet  \\\n",
       "0  Eglise Saint-Denis en Brocqueroy  Saint-Denis/...   \n",
       "1                   Charrettes  Rue à/Haies/Arbustes   \n",
       "2  Produits  Rue des/Square Rue des Produits/Haie...   \n",
       "\n",
       "                         fields.identifiant  \n",
       "0  Tilleul (Tilia)/Tilleul argenté pleureur  \n",
       "1                                   Aucuba/  \n",
       "2                                    Taxus/  "
      ],
      "text/html": "<div>\n<style scoped>\n    .dataframe tbody tr th:only-of-type {\n        vertical-align: middle;\n    }\n\n    .dataframe tbody tr th {\n        vertical-align: top;\n    }\n\n    .dataframe thead th {\n        text-align: right;\n    }\n</style>\n<table border=\"1\" class=\"dataframe\">\n  <thead>\n    <tr style=\"text-align: right;\">\n      <th></th>\n      <th>datasetid</th>\n      <th>recordid</th>\n      <th>record_timestamp</th>\n      <th>fields.equipement_adresse</th>\n      <th>fields.quantite</th>\n      <th>fields.commune_niveau_1</th>\n      <th>fields.libelle</th>\n      <th>fields.libelle_complet</th>\n      <th>fields.identifiant</th>\n    </tr>\n  </thead>\n  <tbody>\n    <tr>\n      <th>0</th>\n      <td>arbres-remarquables</td>\n      <td>32d4439d7b29fe5cf3a6d07dfb3c48a9b3f8bcd3</td>\n      <td>2020-12-09T14:46:56.096000+00:00</td>\n      <td>Place de Saint-Denis\\nSaint-Denis</td>\n      <td>1</td>\n      <td>Saint-Denis</td>\n      <td>Feuillus</td>\n      <td>Eglise Saint-Denis en Brocqueroy  Saint-Denis/...</td>\n      <td>Tilleul (Tilia)/Tilleul argenté pleureur</td>\n    </tr>\n    <tr>\n      <th>1</th>\n      <td>arbres-remarquables</td>\n      <td>06627066362d3fd641f689a37d8c06af2be3a204</td>\n      <td>2020-12-09T14:46:56.096000+00:00</td>\n      <td>Rue à Charettes\\n7000 Flénu</td>\n      <td>1</td>\n      <td>Flénu</td>\n      <td>Arbustes</td>\n      <td>Charrettes  Rue à/Haies/Arbustes</td>\n      <td>Aucuba/</td>\n    </tr>\n    <tr>\n      <th>2</th>\n      <td>arbres-remarquables</td>\n      <td>f47709743102b0f366003914b71ead63518fccda</td>\n      <td>2020-12-09T14:46:56.096000+00:00</td>\n      <td>Rue des Produits\\n7012 Flénu</td>\n      <td>60</td>\n      <td>Flénu</td>\n      <td>Arbustes</td>\n      <td>Produits  Rue des/Square Rue des Produits/Haie...</td>\n      <td>Taxus/</td>\n    </tr>\n  </tbody>\n</table>\n</div>"
     },
     "metadata": {},
     "execution_count": 108
    }
   ],
   "source": [
    "df_arbre.head(3)"
   ]
  },
  {
   "cell_type": "code",
   "execution_count": 109,
   "metadata": {},
   "outputs": [
    {
     "output_type": "execute_result",
     "data": {
      "text/plain": [
       "323"
      ]
     },
     "metadata": {},
     "execution_count": 109
    }
   ],
   "source": [
    "df_arbre[\"fields.equipement_adresse\"].nunique()"
   ]
  },
  {
   "cell_type": "code",
   "execution_count": 110,
   "metadata": {},
   "outputs": [],
   "source": [
    "df_arbre.drop_duplicates(keep = 'first', inplace=True)"
   ]
  },
  {
   "cell_type": "code",
   "execution_count": 111,
   "metadata": {},
   "outputs": [
    {
     "output_type": "execute_result",
     "data": {
      "text/plain": [
       "933"
      ]
     },
     "metadata": {},
     "execution_count": 111
    }
   ],
   "source": [
    "df_arbre[\"fields.equipement_adresse\"].isnull().count()"
   ]
  },
  {
   "cell_type": "code",
   "execution_count": 112,
   "metadata": {},
   "outputs": [
    {
     "output_type": "execute_result",
     "data": {
      "text/plain": [
       "933"
      ]
     },
     "metadata": {},
     "execution_count": 112
    }
   ],
   "source": [
    "df_arbre[\"fields.equipement_adresse\"].notnull().count()"
   ]
  },
  {
   "cell_type": "code",
   "execution_count": 126,
   "metadata": {},
   "outputs": [
    {
     "output_type": "stream",
     "name": "stdout",
     "text": [
      "<class 'pandas.core.frame.DataFrame'>\nInt64Index: 933 entries, 0 to 932\nData columns (total 10 columns):\n #   Column                     Non-Null Count  Dtype \n---  ------                     --------------  ----- \n 0   datasetid                  933 non-null    object\n 1   recordid                   933 non-null    object\n 2   record_timestamp           933 non-null    object\n 3   fields.equipement_adresse  933 non-null    string\n 4   fields.quantite            933 non-null    Int64 \n 5   fields.commune_niveau_1    933 non-null    object\n 6   fields.libelle             933 non-null    object\n 7   fields.libelle_complet     933 non-null    object\n 8   fields.identifiant         926 non-null    object\n 9   coord                      720 non-null    object\ndtypes: Int64(1), object(8), string(1)\nmemory usage: 81.1+ KB\n"
     ]
    }
   ],
   "source": [
    "df_arbre.info()"
   ]
  },
  {
   "cell_type": "code",
   "execution_count": 125,
   "metadata": {},
   "outputs": [],
   "source": [
    "df_arbre[\"fields.quantite\"] = df_arbre[\"fields.quantite\"].convert_dtypes()"
   ]
  },
  {
   "cell_type": "code",
   "execution_count": 114,
   "metadata": {},
   "outputs": [],
   "source": [
    "# df_arbre[\"fields.equipement_adresse\"] = \n",
    "df_arbre[\"fields.equipement_adresse\"] = df_arbre[\"fields.equipement_adresse\"].convert_dtypes()\n",
    "df_arbre[\"fields.equipement_adresse\"].replace(regex=\"\\r+\\n+\\t+\", value=\" \", inplace=True)"
   ]
  },
  {
   "cell_type": "code",
   "execution_count": 115,
   "metadata": {},
   "outputs": [
    {
     "output_type": "execute_result",
     "data": {
      "text/plain": [
       "             datasetid                                  recordid  \\\n",
       "0  arbres-remarquables  32d4439d7b29fe5cf3a6d07dfb3c48a9b3f8bcd3   \n",
       "1  arbres-remarquables  06627066362d3fd641f689a37d8c06af2be3a204   \n",
       "2  arbres-remarquables  f47709743102b0f366003914b71ead63518fccda   \n",
       "\n",
       "                   record_timestamp         fields.equipement_adresse  \\\n",
       "0  2020-12-09T14:46:56.096000+00:00  Place de Saint-Denis\n",
       "Saint-Denis   \n",
       "1  2020-12-09T14:46:56.096000+00:00        Rue à Charettes\n",
       "7000 Flénu   \n",
       "2  2020-12-09T14:46:56.096000+00:00       Rue des Produits\n",
       "7012 Flénu   \n",
       "\n",
       "   fields.quantite fields.commune_niveau_1 fields.libelle  \\\n",
       "0                1             Saint-Denis       Feuillus   \n",
       "1                1                   Flénu       Arbustes   \n",
       "2               60                   Flénu       Arbustes   \n",
       "\n",
       "                              fields.libelle_complet  \\\n",
       "0  Eglise Saint-Denis en Brocqueroy  Saint-Denis/...   \n",
       "1                   Charrettes  Rue à/Haies/Arbustes   \n",
       "2  Produits  Rue des/Square Rue des Produits/Haie...   \n",
       "\n",
       "                         fields.identifiant  \n",
       "0  Tilleul (Tilia)/Tilleul argenté pleureur  \n",
       "1                                   Aucuba/  \n",
       "2                                    Taxus/  "
      ],
      "text/html": "<div>\n<style scoped>\n    .dataframe tbody tr th:only-of-type {\n        vertical-align: middle;\n    }\n\n    .dataframe tbody tr th {\n        vertical-align: top;\n    }\n\n    .dataframe thead th {\n        text-align: right;\n    }\n</style>\n<table border=\"1\" class=\"dataframe\">\n  <thead>\n    <tr style=\"text-align: right;\">\n      <th></th>\n      <th>datasetid</th>\n      <th>recordid</th>\n      <th>record_timestamp</th>\n      <th>fields.equipement_adresse</th>\n      <th>fields.quantite</th>\n      <th>fields.commune_niveau_1</th>\n      <th>fields.libelle</th>\n      <th>fields.libelle_complet</th>\n      <th>fields.identifiant</th>\n    </tr>\n  </thead>\n  <tbody>\n    <tr>\n      <th>0</th>\n      <td>arbres-remarquables</td>\n      <td>32d4439d7b29fe5cf3a6d07dfb3c48a9b3f8bcd3</td>\n      <td>2020-12-09T14:46:56.096000+00:00</td>\n      <td>Place de Saint-Denis\nSaint-Denis</td>\n      <td>1</td>\n      <td>Saint-Denis</td>\n      <td>Feuillus</td>\n      <td>Eglise Saint-Denis en Brocqueroy  Saint-Denis/...</td>\n      <td>Tilleul (Tilia)/Tilleul argenté pleureur</td>\n    </tr>\n    <tr>\n      <th>1</th>\n      <td>arbres-remarquables</td>\n      <td>06627066362d3fd641f689a37d8c06af2be3a204</td>\n      <td>2020-12-09T14:46:56.096000+00:00</td>\n      <td>Rue à Charettes\n7000 Flénu</td>\n      <td>1</td>\n      <td>Flénu</td>\n      <td>Arbustes</td>\n      <td>Charrettes  Rue à/Haies/Arbustes</td>\n      <td>Aucuba/</td>\n    </tr>\n    <tr>\n      <th>2</th>\n      <td>arbres-remarquables</td>\n      <td>f47709743102b0f366003914b71ead63518fccda</td>\n      <td>2020-12-09T14:46:56.096000+00:00</td>\n      <td>Rue des Produits\n7012 Flénu</td>\n      <td>60</td>\n      <td>Flénu</td>\n      <td>Arbustes</td>\n      <td>Produits  Rue des/Square Rue des Produits/Haie...</td>\n      <td>Taxus/</td>\n    </tr>\n  </tbody>\n</table>\n</div>"
     },
     "metadata": {},
     "execution_count": 115
    }
   ],
   "source": [
    "df_arbre.head(3)"
   ]
  },
  {
   "cell_type": "code",
   "execution_count": 116,
   "metadata": {},
   "outputs": [],
   "source": [
    "from geopy.geocoders import Nominatim\n",
    "from geopy.exc import GeocoderTimedOut\n",
    "\n",
    "\n",
    "class LocationUnknownException(Exception):\n",
    "    pass\n",
    "\n",
    "\n",
    "def __do_geocode(address: str, attempt: int = 1, max_attempts: int = 5) -> object:\n",
    "    geolocator = Nominatim(user_agent=\"Mons\")\n",
    "    try:\n",
    "        return geolocator.geocode(address)\n",
    "    except GeocoderTimedOut:\n",
    "        if attempt <= max_attempts:\n",
    "            return __do_geocode(address, attempt=attempt + 1)\n",
    "        raise\n",
    "\n",
    "\n",
    "def get_coordinates(address: str):\n",
    "    location = __do_geocode(address)\n",
    "    if location == None:\n",
    "        # return \"unknown address\"\n",
    "        # raise LocationUnknownException\n",
    "        return None\n",
    "    else:\n",
    "        return (location.latitude, location.longitude)  # , location.address)"
   ]
  },
  {
   "cell_type": "code",
   "execution_count": 117,
   "metadata": {},
   "outputs": [],
   "source": [
    "df_arbre[\"coord\"] = df_arbre[\"fields.equipement_adresse\"].apply(get_coordinates)"
   ]
  },
  {
   "cell_type": "code",
   "execution_count": 118,
   "metadata": {},
   "outputs": [
    {
     "output_type": "stream",
     "name": "stdout",
     "text": [
      "<class 'pandas.core.frame.DataFrame'>\nInt64Index: 933 entries, 0 to 932\nData columns (total 10 columns):\n #   Column                     Non-Null Count  Dtype \n---  ------                     --------------  ----- \n 0   datasetid                  933 non-null    object\n 1   recordid                   933 non-null    object\n 2   record_timestamp           933 non-null    object\n 3   fields.equipement_adresse  933 non-null    string\n 4   fields.quantite            933 non-null    int64 \n 5   fields.commune_niveau_1    933 non-null    object\n 6   fields.libelle             933 non-null    object\n 7   fields.libelle_complet     933 non-null    object\n 8   fields.identifiant         926 non-null    object\n 9   coord                      720 non-null    object\ndtypes: int64(1), object(8), string(1)\nmemory usage: 80.2+ KB\n"
     ]
    }
   ],
   "source": [
    "df_arbre.info()"
   ]
  },
  {
   "cell_type": "code",
   "execution_count": 119,
   "metadata": {},
   "outputs": [
    {
     "output_type": "execute_result",
     "data": {
      "text/plain": [
       "               datasetid                                  recordid  \\\n",
       "0    arbres-remarquables  32d4439d7b29fe5cf3a6d07dfb3c48a9b3f8bcd3   \n",
       "1    arbres-remarquables  06627066362d3fd641f689a37d8c06af2be3a204   \n",
       "2    arbres-remarquables  f47709743102b0f366003914b71ead63518fccda   \n",
       "3    arbres-remarquables  622d42c7cc3e1ae70874a4a29f4f27a7d7e669ca   \n",
       "4    arbres-remarquables  5f8d43e001b524c59ef1e895f532b20bec75b61d   \n",
       "..                   ...                                       ...   \n",
       "928  arbres-remarquables  fe21a3d126295865ac9138534ce036821dc51f70   \n",
       "929  arbres-remarquables  9aa1f0d796f5465aafaebe27fe39f103e06626f5   \n",
       "930  arbres-remarquables  cebebe593327a10fb5c60c68ca1e2803256a185a   \n",
       "931  arbres-remarquables  d4bfd523e6e70d37c1684a9996f265b5fe12c583   \n",
       "932  arbres-remarquables  16619c1506f7fe885f2f91722e244f9e43df0e36   \n",
       "\n",
       "                     record_timestamp  \\\n",
       "0    2020-12-09T14:46:56.096000+00:00   \n",
       "1    2020-12-09T14:46:56.096000+00:00   \n",
       "2    2020-12-09T14:46:56.096000+00:00   \n",
       "3    2020-12-09T14:46:56.096000+00:00   \n",
       "4    2020-12-09T14:46:56.096000+00:00   \n",
       "..                                ...   \n",
       "928  2020-12-09T14:46:56.096000+00:00   \n",
       "929  2020-12-09T14:46:56.096000+00:00   \n",
       "930  2020-12-09T14:46:56.096000+00:00   \n",
       "931  2020-12-09T14:46:56.096000+00:00   \n",
       "932  2020-12-09T14:46:56.096000+00:00   \n",
       "\n",
       "                             fields.equipement_adresse  fields.quantite  \\\n",
       "0                     Place de Saint-Denis\n",
       "Saint-Denis                1   \n",
       "1                           Rue à Charettes\n",
       "7000 Flénu                1   \n",
       "2                          Rue des Produits\n",
       "7012 Flénu               60   \n",
       "3                       Rue de Saint-Denis\n",
       "7034 Obourg                4   \n",
       "4                          Rue du Comte\n",
       "7022 Nouvelles                1   \n",
       "..                                                 ...              ...   \n",
       "928                        Rue du Comte\n",
       "7022 Nouvelles                1   \n",
       "929    Place de Saint-Symphorien\n",
       "7030 Saint-Symphorien               48   \n",
       "930                        Rue Léon Flament\n",
       "7021 Havré                2   \n",
       "931  Rue Jules Beresse\n",
       "Eglise Saint-Ghislain\n",
       "Viller...                1   \n",
       "932                    Rue Comte Cornet\n",
       "7020 Maisières                1   \n",
       "\n",
       "     fields.commune_niveau_1 fields.libelle  \\\n",
       "0                Saint-Denis       Feuillus   \n",
       "1                      Flénu       Arbustes   \n",
       "2                      Flénu       Arbustes   \n",
       "3                     Obourg       Feuillus   \n",
       "4                  Nouvelles       Feuillus   \n",
       "..                       ...            ...   \n",
       "928                Nouvelles       Feuillus   \n",
       "929         Saint-Symphorien       Feuillus   \n",
       "930                    Havré       Feuillus   \n",
       "931  Villers-Saint- Ghislain       Feuillus   \n",
       "932                Maisières       Feuillus   \n",
       "\n",
       "                                fields.libelle_complet  \\\n",
       "0    Eglise Saint-Denis en Brocqueroy  Saint-Denis/...   \n",
       "1                     Charrettes  Rue à/Haies/Arbustes   \n",
       "2    Produits  Rue des/Square Rue des Produits/Haie...   \n",
       "3     Saint-Denis  Rue de/Arbres d'alignement/Feuillus   \n",
       "4                       Comte  Rue du/Pelouse/Feuillus   \n",
       "..                                                 ...   \n",
       "928                      Comte  Rue du/Arbre /Feuillus   \n",
       "929          Saint-Symphorien  Place de/Arbre/Feuillus   \n",
       "930                 Flament  Rue Léon /Arbres/Feuillus   \n",
       "931  Eglise Saint-Ghislain  Villers-St-Ghislain/Arb...   \n",
       "932      Comte Cornet  Rue (partie communale)/Feuillus   \n",
       "\n",
       "                               fields.identifiant  \\\n",
       "0        Tilleul (Tilia)/Tilleul argenté pleureur   \n",
       "1                                         Aucuba/   \n",
       "2                                          Taxus/   \n",
       "3                                  Acer/campestre   \n",
       "4             Tilleul (Tilia)/Tilleul de Hollande   \n",
       "..                                            ...   \n",
       "928  Marronnier (Aesculus)/hippocastanum (d'Inde)   \n",
       "929           Tilleul (Tilia)/Tilleul de Hollande   \n",
       "930             Erable (Acer)/Plane (platanoides)   \n",
       "931  Marronnier (Aesculus)/hippocastanum (d'Inde)   \n",
       "932                           Platanus/acerifolia   \n",
       "\n",
       "                                       coord  \n",
       "0                     (50.491498, 4.0169791)  \n",
       "1                    (50.4341936, 3.8929279)  \n",
       "2                    (50.4301856, 3.8895154)  \n",
       "3                    (50.4822667, 4.0121395)  \n",
       "4                    (50.4080023, 3.9714942)  \n",
       "..                                       ...  \n",
       "928                  (50.4080023, 3.9714942)  \n",
       "929  (50.438119549999996, 4.007406892208381)  \n",
       "930                   (50.4645743, 4.043723)  \n",
       "931                                     None  \n",
       "932                  (50.4885445, 3.9653462)  \n",
       "\n",
       "[933 rows x 10 columns]"
      ],
      "text/html": "<div>\n<style scoped>\n    .dataframe tbody tr th:only-of-type {\n        vertical-align: middle;\n    }\n\n    .dataframe tbody tr th {\n        vertical-align: top;\n    }\n\n    .dataframe thead th {\n        text-align: right;\n    }\n</style>\n<table border=\"1\" class=\"dataframe\">\n  <thead>\n    <tr style=\"text-align: right;\">\n      <th></th>\n      <th>datasetid</th>\n      <th>recordid</th>\n      <th>record_timestamp</th>\n      <th>fields.equipement_adresse</th>\n      <th>fields.quantite</th>\n      <th>fields.commune_niveau_1</th>\n      <th>fields.libelle</th>\n      <th>fields.libelle_complet</th>\n      <th>fields.identifiant</th>\n      <th>coord</th>\n    </tr>\n  </thead>\n  <tbody>\n    <tr>\n      <th>0</th>\n      <td>arbres-remarquables</td>\n      <td>32d4439d7b29fe5cf3a6d07dfb3c48a9b3f8bcd3</td>\n      <td>2020-12-09T14:46:56.096000+00:00</td>\n      <td>Place de Saint-Denis\nSaint-Denis</td>\n      <td>1</td>\n      <td>Saint-Denis</td>\n      <td>Feuillus</td>\n      <td>Eglise Saint-Denis en Brocqueroy  Saint-Denis/...</td>\n      <td>Tilleul (Tilia)/Tilleul argenté pleureur</td>\n      <td>(50.491498, 4.0169791)</td>\n    </tr>\n    <tr>\n      <th>1</th>\n      <td>arbres-remarquables</td>\n      <td>06627066362d3fd641f689a37d8c06af2be3a204</td>\n      <td>2020-12-09T14:46:56.096000+00:00</td>\n      <td>Rue à Charettes\n7000 Flénu</td>\n      <td>1</td>\n      <td>Flénu</td>\n      <td>Arbustes</td>\n      <td>Charrettes  Rue à/Haies/Arbustes</td>\n      <td>Aucuba/</td>\n      <td>(50.4341936, 3.8929279)</td>\n    </tr>\n    <tr>\n      <th>2</th>\n      <td>arbres-remarquables</td>\n      <td>f47709743102b0f366003914b71ead63518fccda</td>\n      <td>2020-12-09T14:46:56.096000+00:00</td>\n      <td>Rue des Produits\n7012 Flénu</td>\n      <td>60</td>\n      <td>Flénu</td>\n      <td>Arbustes</td>\n      <td>Produits  Rue des/Square Rue des Produits/Haie...</td>\n      <td>Taxus/</td>\n      <td>(50.4301856, 3.8895154)</td>\n    </tr>\n    <tr>\n      <th>3</th>\n      <td>arbres-remarquables</td>\n      <td>622d42c7cc3e1ae70874a4a29f4f27a7d7e669ca</td>\n      <td>2020-12-09T14:46:56.096000+00:00</td>\n      <td>Rue de Saint-Denis\n7034 Obourg</td>\n      <td>4</td>\n      <td>Obourg</td>\n      <td>Feuillus</td>\n      <td>Saint-Denis  Rue de/Arbres d'alignement/Feuillus</td>\n      <td>Acer/campestre</td>\n      <td>(50.4822667, 4.0121395)</td>\n    </tr>\n    <tr>\n      <th>4</th>\n      <td>arbres-remarquables</td>\n      <td>5f8d43e001b524c59ef1e895f532b20bec75b61d</td>\n      <td>2020-12-09T14:46:56.096000+00:00</td>\n      <td>Rue du Comte\n7022 Nouvelles</td>\n      <td>1</td>\n      <td>Nouvelles</td>\n      <td>Feuillus</td>\n      <td>Comte  Rue du/Pelouse/Feuillus</td>\n      <td>Tilleul (Tilia)/Tilleul de Hollande</td>\n      <td>(50.4080023, 3.9714942)</td>\n    </tr>\n    <tr>\n      <th>...</th>\n      <td>...</td>\n      <td>...</td>\n      <td>...</td>\n      <td>...</td>\n      <td>...</td>\n      <td>...</td>\n      <td>...</td>\n      <td>...</td>\n      <td>...</td>\n      <td>...</td>\n    </tr>\n    <tr>\n      <th>928</th>\n      <td>arbres-remarquables</td>\n      <td>fe21a3d126295865ac9138534ce036821dc51f70</td>\n      <td>2020-12-09T14:46:56.096000+00:00</td>\n      <td>Rue du Comte\n7022 Nouvelles</td>\n      <td>1</td>\n      <td>Nouvelles</td>\n      <td>Feuillus</td>\n      <td>Comte  Rue du/Arbre /Feuillus</td>\n      <td>Marronnier (Aesculus)/hippocastanum (d'Inde)</td>\n      <td>(50.4080023, 3.9714942)</td>\n    </tr>\n    <tr>\n      <th>929</th>\n      <td>arbres-remarquables</td>\n      <td>9aa1f0d796f5465aafaebe27fe39f103e06626f5</td>\n      <td>2020-12-09T14:46:56.096000+00:00</td>\n      <td>Place de Saint-Symphorien\n7030 Saint-Symphorien</td>\n      <td>48</td>\n      <td>Saint-Symphorien</td>\n      <td>Feuillus</td>\n      <td>Saint-Symphorien  Place de/Arbre/Feuillus</td>\n      <td>Tilleul (Tilia)/Tilleul de Hollande</td>\n      <td>(50.438119549999996, 4.007406892208381)</td>\n    </tr>\n    <tr>\n      <th>930</th>\n      <td>arbres-remarquables</td>\n      <td>cebebe593327a10fb5c60c68ca1e2803256a185a</td>\n      <td>2020-12-09T14:46:56.096000+00:00</td>\n      <td>Rue Léon Flament\n7021 Havré</td>\n      <td>2</td>\n      <td>Havré</td>\n      <td>Feuillus</td>\n      <td>Flament  Rue Léon /Arbres/Feuillus</td>\n      <td>Erable (Acer)/Plane (platanoides)</td>\n      <td>(50.4645743, 4.043723)</td>\n    </tr>\n    <tr>\n      <th>931</th>\n      <td>arbres-remarquables</td>\n      <td>d4bfd523e6e70d37c1684a9996f265b5fe12c583</td>\n      <td>2020-12-09T14:46:56.096000+00:00</td>\n      <td>Rue Jules Beresse\nEglise Saint-Ghislain\nViller...</td>\n      <td>1</td>\n      <td>Villers-Saint- Ghislain</td>\n      <td>Feuillus</td>\n      <td>Eglise Saint-Ghislain  Villers-St-Ghislain/Arb...</td>\n      <td>Marronnier (Aesculus)/hippocastanum (d'Inde)</td>\n      <td>None</td>\n    </tr>\n    <tr>\n      <th>932</th>\n      <td>arbres-remarquables</td>\n      <td>16619c1506f7fe885f2f91722e244f9e43df0e36</td>\n      <td>2020-12-09T14:46:56.096000+00:00</td>\n      <td>Rue Comte Cornet\n7020 Maisières</td>\n      <td>1</td>\n      <td>Maisières</td>\n      <td>Feuillus</td>\n      <td>Comte Cornet  Rue (partie communale)/Feuillus</td>\n      <td>Platanus/acerifolia</td>\n      <td>(50.4885445, 3.9653462)</td>\n    </tr>\n  </tbody>\n</table>\n<p>933 rows × 10 columns</p>\n</div>"
     },
     "metadata": {},
     "execution_count": 119
    }
   ],
   "source": [
    "df_arbre"
   ]
  },
  {
   "cell_type": "code",
   "execution_count": 120,
   "metadata": {},
   "outputs": [
    {
     "output_type": "execute_result",
     "data": {
      "text/plain": [
       "931    Rue Jules Beresse\n",
       "Eglise Saint-Ghislain\n",
       "Viller...\n",
       "Name: fields.equipement_adresse, dtype: string"
      ]
     },
     "metadata": {},
     "execution_count": 120
    }
   ],
   "source": [
    "df_arbre[df_arbre[\"recordid\"]==\"d4bfd523e6e70d37c1684a9996f265b5fe12c583\"][\"fields.equipement_adresse\"]"
   ]
  },
  {
   "cell_type": "code",
   "execution_count": 124,
   "metadata": {},
   "outputs": [
    {
     "output_type": "stream",
     "name": "stdout",
     "text": [
      "Rue Jules Beresse, Villers-Saint-Ghislain, Mons, Hainaut, Wallonie, 7031, België / Belgique / Belgien\n"
     ]
    }
   ],
   "source": [
    "print(__do_geocode(\"Rue Jules Beresse  Saint-Ghislain Villers St Ghislain\"))"
   ]
  },
  {
   "cell_type": "code",
   "execution_count": 128,
   "metadata": {},
   "outputs": [
    {
     "output_type": "execute_result",
     "data": {
      "text/plain": [
       "     Unnamed: 0            datasetid  \\\n",
       "0             0  arbres-remarquables   \n",
       "1             1  arbres-remarquables   \n",
       "2             2  arbres-remarquables   \n",
       "3             3  arbres-remarquables   \n",
       "4             4  arbres-remarquables   \n",
       "..          ...                  ...   \n",
       "927         927  arbres-remarquables   \n",
       "928         928  arbres-remarquables   \n",
       "929         929  arbres-remarquables   \n",
       "930         930  arbres-remarquables   \n",
       "932         932  arbres-remarquables   \n",
       "\n",
       "                                     recordid  \\\n",
       "0    32d4439d7b29fe5cf3a6d07dfb3c48a9b3f8bcd3   \n",
       "1    06627066362d3fd641f689a37d8c06af2be3a204   \n",
       "2    f47709743102b0f366003914b71ead63518fccda   \n",
       "3    622d42c7cc3e1ae70874a4a29f4f27a7d7e669ca   \n",
       "4    5f8d43e001b524c59ef1e895f532b20bec75b61d   \n",
       "..                                        ...   \n",
       "927  00a1fea84ba9c64191899e2c6f48f0e294474bc4   \n",
       "928  fe21a3d126295865ac9138534ce036821dc51f70   \n",
       "929  9aa1f0d796f5465aafaebe27fe39f103e06626f5   \n",
       "930  cebebe593327a10fb5c60c68ca1e2803256a185a   \n",
       "932  16619c1506f7fe885f2f91722e244f9e43df0e36   \n",
       "\n",
       "                     record_timestamp  \\\n",
       "0    2020-12-09T14:46:56.096000+00:00   \n",
       "1    2020-12-09T14:46:56.096000+00:00   \n",
       "2    2020-12-09T14:46:56.096000+00:00   \n",
       "3    2020-12-09T14:46:56.096000+00:00   \n",
       "4    2020-12-09T14:46:56.096000+00:00   \n",
       "..                                ...   \n",
       "927  2020-12-09T14:46:56.096000+00:00   \n",
       "928  2020-12-09T14:46:56.096000+00:00   \n",
       "929  2020-12-09T14:46:56.096000+00:00   \n",
       "930  2020-12-09T14:46:56.096000+00:00   \n",
       "932  2020-12-09T14:46:56.096000+00:00   \n",
       "\n",
       "                            fields.equipement_adresse  fields.quantite  \\\n",
       "0                   Place de Saint-Denis\\nSaint-Denis                1   \n",
       "1                         Rue à Charettes\\n7000 Flénu                1   \n",
       "2                        Rue des Produits\\n7012 Flénu               60   \n",
       "3                     Rue de Saint-Denis\\n7034 Obourg                4   \n",
       "4                        Rue du Comte\\n7022 Nouvelles                1   \n",
       "..                                                ...              ...   \n",
       "927                      Rue Léon Flament\\n7021 Havré                1   \n",
       "928                      Rue du Comte\\n7022 Nouvelles                1   \n",
       "929  Place de Saint-Symphorien\\n7030 Saint-Symphorien               48   \n",
       "930                      Rue Léon Flament\\n7021 Havré                2   \n",
       "932                  Rue Comte Cornet\\n7020 Maisières                1   \n",
       "\n",
       "    fields.commune_niveau_1 fields.libelle  \\\n",
       "0               Saint-Denis       Feuillus   \n",
       "1                     Flénu       Arbustes   \n",
       "2                     Flénu       Arbustes   \n",
       "3                    Obourg       Feuillus   \n",
       "4                 Nouvelles       Feuillus   \n",
       "..                      ...            ...   \n",
       "927                   Havré       Feuillus   \n",
       "928               Nouvelles       Feuillus   \n",
       "929        Saint-Symphorien       Feuillus   \n",
       "930                   Havré       Feuillus   \n",
       "932               Maisières       Feuillus   \n",
       "\n",
       "                                fields.libelle_complet  \\\n",
       "0    Eglise Saint-Denis en Brocqueroy  Saint-Denis/...   \n",
       "1                     Charrettes  Rue à/Haies/Arbustes   \n",
       "2    Produits  Rue des/Square Rue des Produits/Haie...   \n",
       "3     Saint-Denis  Rue de/Arbres d'alignement/Feuillus   \n",
       "4                       Comte  Rue du/Pelouse/Feuillus   \n",
       "..                                                 ...   \n",
       "927  Flament  Rue Léon /Parc Rue Léon Flament/Feuillus   \n",
       "928                      Comte  Rue du/Arbre /Feuillus   \n",
       "929          Saint-Symphorien  Place de/Arbre/Feuillus   \n",
       "930                 Flament  Rue Léon /Arbres/Feuillus   \n",
       "932      Comte Cornet  Rue (partie communale)/Feuillus   \n",
       "\n",
       "                                fields.identifiant  \\\n",
       "0         Tilleul (Tilia)/Tilleul argenté pleureur   \n",
       "1                                          Aucuba/   \n",
       "2                                           Taxus/   \n",
       "3                                   Acer/campestre   \n",
       "4              Tilleul (Tilia)/Tilleul de Hollande   \n",
       "..                                             ...   \n",
       "927  Robinier (Robinia)/pseudoacacia (faux acacia)   \n",
       "928   Marronnier (Aesculus)/hippocastanum (d'Inde)   \n",
       "929            Tilleul (Tilia)/Tilleul de Hollande   \n",
       "930              Erable (Acer)/Plane (platanoides)   \n",
       "932                            Platanus/acerifolia   \n",
       "\n",
       "                                       coord  \n",
       "0                     (50.491498, 4.0169791)  \n",
       "1                    (50.4341936, 3.8929279)  \n",
       "2                    (50.4301856, 3.8895154)  \n",
       "3                    (50.4822667, 4.0121395)  \n",
       "4                    (50.4080023, 3.9714942)  \n",
       "..                                       ...  \n",
       "927                   (50.4645743, 4.043723)  \n",
       "928                  (50.4080023, 3.9714942)  \n",
       "929  (50.438119549999996, 4.007406892208381)  \n",
       "930                   (50.4645743, 4.043723)  \n",
       "932                  (50.4885445, 3.9653462)  \n",
       "\n",
       "[714 rows x 11 columns]"
      ],
      "text/html": "<div>\n<style scoped>\n    .dataframe tbody tr th:only-of-type {\n        vertical-align: middle;\n    }\n\n    .dataframe tbody tr th {\n        vertical-align: top;\n    }\n\n    .dataframe thead th {\n        text-align: right;\n    }\n</style>\n<table border=\"1\" class=\"dataframe\">\n  <thead>\n    <tr style=\"text-align: right;\">\n      <th></th>\n      <th>Unnamed: 0</th>\n      <th>datasetid</th>\n      <th>recordid</th>\n      <th>record_timestamp</th>\n      <th>fields.equipement_adresse</th>\n      <th>fields.quantite</th>\n      <th>fields.commune_niveau_1</th>\n      <th>fields.libelle</th>\n      <th>fields.libelle_complet</th>\n      <th>fields.identifiant</th>\n      <th>coord</th>\n    </tr>\n  </thead>\n  <tbody>\n    <tr>\n      <th>0</th>\n      <td>0</td>\n      <td>arbres-remarquables</td>\n      <td>32d4439d7b29fe5cf3a6d07dfb3c48a9b3f8bcd3</td>\n      <td>2020-12-09T14:46:56.096000+00:00</td>\n      <td>Place de Saint-Denis\\nSaint-Denis</td>\n      <td>1</td>\n      <td>Saint-Denis</td>\n      <td>Feuillus</td>\n      <td>Eglise Saint-Denis en Brocqueroy  Saint-Denis/...</td>\n      <td>Tilleul (Tilia)/Tilleul argenté pleureur</td>\n      <td>(50.491498, 4.0169791)</td>\n    </tr>\n    <tr>\n      <th>1</th>\n      <td>1</td>\n      <td>arbres-remarquables</td>\n      <td>06627066362d3fd641f689a37d8c06af2be3a204</td>\n      <td>2020-12-09T14:46:56.096000+00:00</td>\n      <td>Rue à Charettes\\n7000 Flénu</td>\n      <td>1</td>\n      <td>Flénu</td>\n      <td>Arbustes</td>\n      <td>Charrettes  Rue à/Haies/Arbustes</td>\n      <td>Aucuba/</td>\n      <td>(50.4341936, 3.8929279)</td>\n    </tr>\n    <tr>\n      <th>2</th>\n      <td>2</td>\n      <td>arbres-remarquables</td>\n      <td>f47709743102b0f366003914b71ead63518fccda</td>\n      <td>2020-12-09T14:46:56.096000+00:00</td>\n      <td>Rue des Produits\\n7012 Flénu</td>\n      <td>60</td>\n      <td>Flénu</td>\n      <td>Arbustes</td>\n      <td>Produits  Rue des/Square Rue des Produits/Haie...</td>\n      <td>Taxus/</td>\n      <td>(50.4301856, 3.8895154)</td>\n    </tr>\n    <tr>\n      <th>3</th>\n      <td>3</td>\n      <td>arbres-remarquables</td>\n      <td>622d42c7cc3e1ae70874a4a29f4f27a7d7e669ca</td>\n      <td>2020-12-09T14:46:56.096000+00:00</td>\n      <td>Rue de Saint-Denis\\n7034 Obourg</td>\n      <td>4</td>\n      <td>Obourg</td>\n      <td>Feuillus</td>\n      <td>Saint-Denis  Rue de/Arbres d'alignement/Feuillus</td>\n      <td>Acer/campestre</td>\n      <td>(50.4822667, 4.0121395)</td>\n    </tr>\n    <tr>\n      <th>4</th>\n      <td>4</td>\n      <td>arbres-remarquables</td>\n      <td>5f8d43e001b524c59ef1e895f532b20bec75b61d</td>\n      <td>2020-12-09T14:46:56.096000+00:00</td>\n      <td>Rue du Comte\\n7022 Nouvelles</td>\n      <td>1</td>\n      <td>Nouvelles</td>\n      <td>Feuillus</td>\n      <td>Comte  Rue du/Pelouse/Feuillus</td>\n      <td>Tilleul (Tilia)/Tilleul de Hollande</td>\n      <td>(50.4080023, 3.9714942)</td>\n    </tr>\n    <tr>\n      <th>...</th>\n      <td>...</td>\n      <td>...</td>\n      <td>...</td>\n      <td>...</td>\n      <td>...</td>\n      <td>...</td>\n      <td>...</td>\n      <td>...</td>\n      <td>...</td>\n      <td>...</td>\n      <td>...</td>\n    </tr>\n    <tr>\n      <th>927</th>\n      <td>927</td>\n      <td>arbres-remarquables</td>\n      <td>00a1fea84ba9c64191899e2c6f48f0e294474bc4</td>\n      <td>2020-12-09T14:46:56.096000+00:00</td>\n      <td>Rue Léon Flament\\n7021 Havré</td>\n      <td>1</td>\n      <td>Havré</td>\n      <td>Feuillus</td>\n      <td>Flament  Rue Léon /Parc Rue Léon Flament/Feuillus</td>\n      <td>Robinier (Robinia)/pseudoacacia (faux acacia)</td>\n      <td>(50.4645743, 4.043723)</td>\n    </tr>\n    <tr>\n      <th>928</th>\n      <td>928</td>\n      <td>arbres-remarquables</td>\n      <td>fe21a3d126295865ac9138534ce036821dc51f70</td>\n      <td>2020-12-09T14:46:56.096000+00:00</td>\n      <td>Rue du Comte\\n7022 Nouvelles</td>\n      <td>1</td>\n      <td>Nouvelles</td>\n      <td>Feuillus</td>\n      <td>Comte  Rue du/Arbre /Feuillus</td>\n      <td>Marronnier (Aesculus)/hippocastanum (d'Inde)</td>\n      <td>(50.4080023, 3.9714942)</td>\n    </tr>\n    <tr>\n      <th>929</th>\n      <td>929</td>\n      <td>arbres-remarquables</td>\n      <td>9aa1f0d796f5465aafaebe27fe39f103e06626f5</td>\n      <td>2020-12-09T14:46:56.096000+00:00</td>\n      <td>Place de Saint-Symphorien\\n7030 Saint-Symphorien</td>\n      <td>48</td>\n      <td>Saint-Symphorien</td>\n      <td>Feuillus</td>\n      <td>Saint-Symphorien  Place de/Arbre/Feuillus</td>\n      <td>Tilleul (Tilia)/Tilleul de Hollande</td>\n      <td>(50.438119549999996, 4.007406892208381)</td>\n    </tr>\n    <tr>\n      <th>930</th>\n      <td>930</td>\n      <td>arbres-remarquables</td>\n      <td>cebebe593327a10fb5c60c68ca1e2803256a185a</td>\n      <td>2020-12-09T14:46:56.096000+00:00</td>\n      <td>Rue Léon Flament\\n7021 Havré</td>\n      <td>2</td>\n      <td>Havré</td>\n      <td>Feuillus</td>\n      <td>Flament  Rue Léon /Arbres/Feuillus</td>\n      <td>Erable (Acer)/Plane (platanoides)</td>\n      <td>(50.4645743, 4.043723)</td>\n    </tr>\n    <tr>\n      <th>932</th>\n      <td>932</td>\n      <td>arbres-remarquables</td>\n      <td>16619c1506f7fe885f2f91722e244f9e43df0e36</td>\n      <td>2020-12-09T14:46:56.096000+00:00</td>\n      <td>Rue Comte Cornet\\n7020 Maisières</td>\n      <td>1</td>\n      <td>Maisières</td>\n      <td>Feuillus</td>\n      <td>Comte Cornet  Rue (partie communale)/Feuillus</td>\n      <td>Platanus/acerifolia</td>\n      <td>(50.4885445, 3.9653462)</td>\n    </tr>\n  </tbody>\n</table>\n<p>714 rows × 11 columns</p>\n</div>"
     },
     "metadata": {},
     "execution_count": 128
    }
   ],
   "source": [
    "df_trees = pd.read_csv(\"test.csv\")\n",
    "\n",
    "#Delete rows without coordinates\n",
    "df_trees = df_trees.dropna()\n",
    "df_trees"
   ]
  },
  {
   "cell_type": "code",
   "execution_count": 132,
   "metadata": {},
   "outputs": [
    {
     "output_type": "execute_result",
     "data": {
      "text/plain": [
       "235"
      ]
     },
     "metadata": {},
     "execution_count": 132
    }
   ],
   "source": [
    "df_trees.coord.nunique()"
   ]
  },
  {
   "cell_type": "code",
   "execution_count": 134,
   "metadata": {},
   "outputs": [
    {
     "output_type": "execute_result",
     "data": {
      "text/plain": [
       "array(['(50.491498, 4.0169791)', '(50.4341936, 3.8929279)',\n",
       "       '(50.4301856, 3.8895154)', '(50.4822667, 4.0121395)',\n",
       "       '(50.4080023, 3.9714942)', '(50.4500185, 3.9543203)',\n",
       "       '(50.4595132, 3.9360135)', '(50.4583924, 3.9292691)',\n",
       "       '(50.4484139, 3.9920539)', '(50.4607973, 3.9786199)',\n",
       "       '(50.4488673, 3.9379833)', '(50.4640353, 3.9804573)',\n",
       "       '(50.4539028, 3.9606686)', '(50.4557943, 3.9455132)',\n",
       "       '(50.4519615, 3.9568425)', '(50.4577911, 3.9512901)',\n",
       "       '(50.4519543, 3.9566883)', '(50.460301, 3.9458557)',\n",
       "       '(50.4470677, 3.9600424)', '(50.4467847, 3.9587771)',\n",
       "       '(50.4483235, 3.9436545)', '(50.4605308, 3.95397)',\n",
       "       '(50.469003, 3.9581067)', '(50.4544794, 3.9325869)',\n",
       "       '(50.4476195, 3.9557251)', '(50.4464344, 3.9523018)',\n",
       "       '(50.4563694, 3.9856206)', '(50.4473038, 3.9472172)',\n",
       "       '(50.4561541, 3.9865819)', '(50.4596606, 3.9923302576392983)',\n",
       "       '(50.4488584, 3.9567553)', '(50.4550322, 3.9559289)',\n",
       "       '(50.4587499, 3.949613)', '(50.4216816, 3.9460497)',\n",
       "       '(50.4461586, 3.9423202)', '(50.45123, 3.9957117)',\n",
       "       '(50.4480769, 3.9577815)', '(50.4200168, 3.9847539)',\n",
       "       '(50.4571986, 3.9258641)', '(50.4484154, 3.9411673)',\n",
       "       '(50.4580873, 3.9638674)', '(50.4479634, 3.9602223)',\n",
       "       '(50.4643835, 3.9845194)', '(50.4873586, 3.9571579)',\n",
       "       '(50.4886634, 3.9572035)', '(50.4883484, 3.9703045)',\n",
       "       '(50.4360234, 3.8884648)', '(50.4511942, 3.8852279)',\n",
       "       '(50.44517675, 3.887493853736885)', '(50.451079, 3.8893242)',\n",
       "       '(50.434769, 3.9494063)', '(50.4364153, 3.9552953)',\n",
       "       '(50.4404578, 3.9558228)', '(50.4405301, 3.9602219)',\n",
       "       '(50.4407184, 3.954997)', '(50.4401697, 3.957773)',\n",
       "       '(50.3996437, 4.0067014)', '(50.4113043, 4.0081911)',\n",
       "       '(50.4832771, 3.9129687)', '(50.4767881, 3.9183574)',\n",
       "       '(50.4777721, 3.9024762)', '(50.4784704, 3.9086155)',\n",
       "       '(50.4770676, 3.899465161153588)', '(50.4735664, 3.917981)',\n",
       "       '(50.4719502, 3.8899131)', '(50.4781604, 3.9094192)',\n",
       "       '(50.480329, 3.9115474)', '(50.4732624, 3.9020413)',\n",
       "       '(50.4343057, 3.894501)', '(50.4295335, 3.9222364)',\n",
       "       '(50.4362197, 3.9240673)', '(50.4394752, 3.9404448)',\n",
       "       '(50.4277666, 3.9263921)', '(50.4377622, 3.9272177)',\n",
       "       '(50.4308865, 3.9229676)', '(50.430713, 3.9207994)',\n",
       "       '(50.4399475, 3.9382119)', '(50.4268568, 3.9235106)',\n",
       "       '(50.4320825, 3.9225857)', '(50.4185416, 3.9426198)',\n",
       "       '(50.438119549999996, 4.007406892208381)',\n",
       "       '(50.4212136, 3.9578795)', '(50.4604642, 3.9726719)',\n",
       "       '(50.452552, 3.9557178)', '(50.4536276, 3.9616136)',\n",
       "       '(50.4753241, 3.9077187)', '(50.4720886, 4.0086742)',\n",
       "       '(50.4600028, 3.9491803)', '(50.4645743, 4.043723)',\n",
       "       '(50.47566, 4.0085948)', '(50.4766615, 3.9576036)',\n",
       "       '(50.4553724, 3.9277572)', '(50.4276541, 3.96057)',\n",
       "       '(50.4452681, 3.9533713)', '(50.4504116, 3.958185)',\n",
       "       '(50.4469358, 3.9481458)', '(50.4533537, 3.9609207)',\n",
       "       '(50.452847, 3.9700994)', '(50.4631619, 3.9754462)',\n",
       "       '(50.454412, 3.9782623)', '(50.4449065, 3.9476546)',\n",
       "       '(50.4491522, 3.9385328)', '(50.4494443, 3.9443705)',\n",
       "       '(50.4603214, 3.9560509)', '(50.4563493, 3.9461704)',\n",
       "       '(50.4496709, 3.9459005)', '(50.4487565, 3.9587204)',\n",
       "       '(50.455633, 3.9556319)', '(50.4462462, 3.9454751)',\n",
       "       '(50.4456893, 3.9462803)', '(50.4504282, 3.999032)',\n",
       "       '(50.4557321, 3.9538251)', '(50.4518319, 3.9575637)',\n",
       "       '(50.4554238, 3.9541007)', '(50.4614625, 3.9436806)',\n",
       "       '(50.4587247, 3.990837)', '(50.4530396, 3.9546958)',\n",
       "       '(50.4476058, 3.9573656)', '(50.4596468, 3.9560752)',\n",
       "       '(50.4606152, 3.9522223)', '(50.4486755, 3.9907688)',\n",
       "       '(50.450354, 3.9690024)', '(50.4536443, 3.9453308)',\n",
       "       '(50.4879276, 3.9653622)', '(50.48457, 3.9616849)',\n",
       "       '(50.4393129, 3.8823349)', '(50.4503915, 3.8940725)',\n",
       "       '(50.4416674, 3.9556702)', '(50.4370401, 3.9564524)',\n",
       "       '(50.3988301, 3.9803655)', '(50.4006773, 4.0154821)',\n",
       "       '(50.4741076, 3.8979167)', '(50.4611669, 3.9434708)',\n",
       "       '(50.4786767, 3.8958565)', '(50.4719664, 3.897358)',\n",
       "       '(50.4774593, 3.905616)', '(50.4739725, 3.9034417)',\n",
       "       '(50.4715161, 3.9037051)', '(50.4758407, 3.9166901)',\n",
       "       '(50.4729051, 3.9125535)', '(50.4691294, 3.9202864)',\n",
       "       '(50.4697826, 3.9185575)', '(50.438558, 3.9108037)',\n",
       "       '(50.4352864, 3.9228997)', '(50.4318564, 3.9247904)',\n",
       "       '(50.4310327, 3.92379)', '(50.4348883, 3.9131581)',\n",
       "       '(50.4390821, 3.9381669)', '(50.4422235, 3.9138275)',\n",
       "       '(50.4405465, 3.9156866)', '(50.4302254, 3.9209451)',\n",
       "       '(50.4367258, 3.9176436)', '(50.4192118, 3.943751476866131)',\n",
       "       '(50.4222809, 3.9458142)', '(50.4167996, 3.9441992)',\n",
       "       '(50.4804734, 4.0104337)', '(50.4640429, 4.0449186)',\n",
       "       '(50.4459019, 3.9821105)', '(50.4802009, 4.0277564)',\n",
       "       '(50.4607309, 3.9567025)', '(50.460034, 3.9598676)',\n",
       "       '(50.4609567, 3.9327005)', '(50.4481304, 3.942233)',\n",
       "       '(50.4432831, 3.9439745)', '(50.4520299, 3.9890467)',\n",
       "       '(50.4498826, 3.9394804)', '(50.4451155, 3.9503088)',\n",
       "       '(50.4536765, 3.9441293)', '(50.4507939, 3.950155)',\n",
       "       '(50.4475067, 3.9560162)', '(50.4530757, 3.9628777)',\n",
       "       '(50.4436323, 3.9518112)', '(50.4587266, 3.9540904)',\n",
       "       '(50.3985009, 3.983873)', '(50.4529409, 3.9490796)',\n",
       "       '(50.4521629, 3.9694713)', '(50.4482602, 3.9478342)',\n",
       "       '(50.450068, 3.8911022)', '(50.4358427, 3.9593656)',\n",
       "       '(50.4384065, 3.9634005)', '(50.4499085, 3.9628084)',\n",
       "       '(50.4738571, 3.9038324)', '(50.4246774, 3.9865431)',\n",
       "       '(50.4372344, 3.9268603)', '(50.4335999, 3.9285983)',\n",
       "       '(50.4242798, 3.9880035)', '(50.4539919, 3.9589991)',\n",
       "       '(50.4555801, 3.9635928)', '(50.4504432, 3.9554155)',\n",
       "       '(50.4660431, 3.829448)', '(50.4537554, 3.9422188)',\n",
       "       '(50.4484129, 3.9466154)', '(50.45295495, 3.956919657119632)',\n",
       "       '(50.4584453, 3.9492761)', '(50.4621877, 3.942573)',\n",
       "       '(50.4513802, 4.0000477)', '(50.4471468, 3.9535395)',\n",
       "       '(50.4531778, 3.9498266)', '(50.4517943, 3.9606371)',\n",
       "       '(50.4478848, 3.9448111)', '(50.4535346, 3.949549)',\n",
       "       '(50.4526856, 3.958874)', '(50.4531875, 3.9495383)',\n",
       "       '(50.4369345, 3.9571252)', '(50.4386854, 3.9590057)',\n",
       "       '(50.4379915, 3.957196)', '(50.4346383, 3.9611601)',\n",
       "       '(50.3945741, 3.9861869)', '(50.4755217, 3.9032332)',\n",
       "       '(50.4693056, 3.9171513)', '(50.4757345, 3.9026448)',\n",
       "       '(50.4684458, 3.9197212)', '(50.4299803, 3.8859234)',\n",
       "       '(50.4412028, 3.9163434)', '(50.4329809, 3.9327924)',\n",
       "       '(50.4158582, 3.9447492)', '(50.4647993, 4.007707)',\n",
       "       '(50.456183, 3.9549571)', '(50.4570826, 3.9372501)',\n",
       "       '(50.4510709, 3.9353863)', '(50.4544422, 3.9287776)',\n",
       "       '(50.4504941, 3.9397153)', '(50.4470362, 3.9502706)',\n",
       "       '(50.4489925, 3.8717088)', '(50.4470749, 3.8922385)',\n",
       "       '(50.446104, 3.8950617)', '(50.4707945, 3.9013052)',\n",
       "       '(50.4681219, 3.9617084)', '(50.4793987, 3.9101702)',\n",
       "       '(50.4684579, 3.9004352)', '(50.4692581, 3.9192971)',\n",
       "       '(50.4339726, 3.9253071)', '(50.4193035, 3.9452135)',\n",
       "       '(50.4878219, 4.0204574)', '(50.4885445, 3.9653462)'], dtype=object)"
      ]
     },
     "metadata": {},
     "execution_count": 134
    }
   ],
   "source": [
    "df_trees.coord.unique()"
   ]
  },
  {
   "cell_type": "code",
   "execution_count": null,
   "metadata": {},
   "outputs": [],
   "source": []
  }
 ]
}